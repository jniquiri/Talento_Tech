{
  "nbformat": 4,
  "nbformat_minor": 0,
  "metadata": {
    "colab": {
      "provenance": [],
      "authorship_tag": "ABX9TyNg5/HGXyJl3kqNGaTpTgYw",
      "include_colab_link": true
    },
    "kernelspec": {
      "name": "python3",
      "display_name": "Python 3"
    },
    "language_info": {
      "name": "python"
    }
  },
  "cells": [
    {
      "cell_type": "markdown",
      "metadata": {
        "id": "view-in-github",
        "colab_type": "text"
      },
      "source": [
        "<a href=\"https://colab.research.google.com/github/jniquiri/Talento_Tech/blob/main/Mision%203/Meedidas_de_distancia_en_datosipynb.ipynb\" target=\"_parent\"><img src=\"https://colab.research.google.com/assets/colab-badge.svg\" alt=\"Open In Colab\"/></a>"
      ]
    },
    {
      "cell_type": "markdown",
      "source": [
        "###Distancia euclidiana\n",
        "Es la distancia entre dos puntos de un espacio euclidiano. Para\n",
        "dos puntos (x1, y1) y (x2, y2) la distancia se calcula como:\n",
        "\n",
        "La distancia euclidiana es una medida de la \"distancia\" entre dos puntos en un espacio euclidiano. En un espacio n-dimensional, esta distancia se calcula utilizando la fórmula de la distancia euclidiana:\n",
        "\n",
        "\n",
        "![Captura.PNG](data:image/png;base64,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)\n",
        "\n",
        "𝑑\n",
        "=\n",
        "\n",
        "$\\sqrt{}$\n",
        "(\n",
        "𝑥\n",
        "2\n",
        "−\n",
        "𝑥\n",
        "1\n",
        ")\n",
        "2\n",
        "+\n",
        "(\n",
        "𝑦\n",
        "2\n",
        "−\n",
        "𝑦\n",
        "1\n",
        ")\n",
        "2\n",
        "+\n",
        "⋯\n",
        "+\n",
        "(\n",
        "𝑧\n",
        "𝑛\n",
        "−\n",
        "𝑧\n",
        "𝑛\n",
        ")\n",
        "2\n",
        "d=\n",
        "(x\n",
        "2\n",
        "​\n",
        " −x\n",
        "1\n",
        "​\n",
        " )\n",
        "2\n",
        " +(y\n",
        "2\n",
        "​\n",
        " −y\n",
        "1\n",
        "​\n",
        " )\n",
        "2\n",
        " +⋯+(z\n",
        "n\n",
        "​\n",
        " −z\n",
        "n\n",
        "​\n",
        " )\n",
        "2\n",
        "\n",
        "​\n",
        "\n",
        "\n",
        "Donde\n",
        "(\n",
        "𝑥\n",
        "1\n",
        ",\n",
        "𝑦\n",
        "1\n",
        ",\n",
        "…\n",
        ",\n",
        "𝑧\n",
        "𝑛\n",
        ")\n",
        "(x\n",
        "1\n",
        "​\n",
        " ,y\n",
        "1\n",
        "​\n",
        " ,…,z\n",
        "n\n",
        "​\n",
        " ) y\n",
        "(\n",
        "𝑥\n",
        "2\n",
        ",\n",
        "𝑦\n",
        "2\n",
        ",\n",
        "…\n",
        ",\n",
        "𝑧\n",
        "𝑛\n",
        ")\n",
        "(x\n",
        "2\n",
        "​\n",
        " ,y\n",
        "2\n",
        "​\n",
        " ,…,z\n",
        "n\n",
        "​\n",
        " ) son las coordenadas de los puntos en el espacio.\n",
        "\n",
        "Aquí tienes una función en Python que calcula la distancia euclidiana entre dos puntos en cualquier espacio n-dimensional:"
      ],
      "metadata": {
        "id": "MMoa6f0CbSDM"
      }
    },
    {
      "cell_type": "code",
      "execution_count": null,
      "metadata": {
        "id": "ns-noIiwZdal"
      },
      "outputs": [],
      "source": [
        "#Importar librerias\n",
        "import math\n",
        "#Crear la función para calcular la distancia euclidiana\n",
        "def euclidean_distance(pointA, pointB):\n",
        "    if len(pointA) != len(pointB):\n",
        "        raise ValueError(\"Los puntos deben tener la misma dimensión\")\n",
        "    suma = 0\n",
        "    for i in range(len(pointA)):\n",
        "      suma += (pointB[i] - pointA[i]) ** 2\n",
        "    return math.sqrt(suma)\n",
        "#La función suma los cuadrado de las diferencias entre las coordenadas correspondiente\n",
        "#Calcula la raiz cuadrada de la suma para obtener la distancia euclidiana"
      ]
    },
    {
      "cell_type": "code",
      "source": [
        "pointA = [1, 2, 3]\n",
        "pointB = [4, 5, 6]\n",
        "#Los arreglos o listas deben tener la misma dimensión\n",
        "print(\"+++++\" * 5)\n",
        "print(f\"La distancia entre \\n {pointA} \")\n",
        "print(f\"y {pointB} es:\\n {euclidean_distance(pointA, pointB)}\")\n",
        "print(\"+++++\" * 5)"
      ],
      "metadata": {
        "colab": {
          "base_uri": "https://localhost:8080/"
        },
        "id": "WF9VtyBZaYFG",
        "outputId": "fa9f8843-6d8b-45bd-9377-deee7b1d0641"
      },
      "execution_count": null,
      "outputs": [
        {
          "output_type": "stream",
          "name": "stdout",
          "text": [
            "+++++++++++++++++++++++++\n",
            "La distancia entre \n",
            " [1, 2, 3] \n",
            "y [4, 5, 6] es:\n",
            " 5.196152422706632\n",
            "+++++++++++++++++++++++++\n"
          ]
        }
      ]
    },
    {
      "cell_type": "markdown",
      "source": [
        "###Distancia Manhattan\n",
        "\n",
        "La distancia de Manhattan, también conocida como distancia L1 o distancia de ciudad, mide la distancia entre dos puntos en un espacio n-dimensional sumando las diferencias absolutas de sus coordenadas. La fórmula general para la distancia de Manhattan entre dos puntos\n",
        "(\n",
        "𝑥\n",
        "1\n",
        ",\n",
        "𝑦\n",
        "1\n",
        ",\n",
        "…\n",
        ",\n",
        "𝑧\n",
        "𝑛\n",
        ")\n",
        "(x\n",
        "1\n",
        "​\n",
        " ,y\n",
        "1\n",
        "​\n",
        " ,…,z\n",
        "n\n",
        "​\n",
        " ) y\n",
        "(\n",
        "𝑥\n",
        "2\n",
        ",\n",
        "𝑦\n",
        "2\n",
        ",\n",
        "…\n",
        ",\n",
        "𝑧\n",
        "𝑛\n",
        ")\n",
        "(x\n",
        "2\n",
        "​\n",
        " ,y\n",
        "2\n",
        "​\n",
        " ,…,z\n",
        "n\n",
        "​\n",
        " ) es:\n",
        "\n",
        "𝑑\n",
        "=\n",
        "∣\n",
        "𝑥\n",
        "2\n",
        "−\n",
        "𝑥\n",
        "1\n",
        "∣\n",
        "+\n",
        "∣\n",
        "𝑦\n",
        "2\n",
        "−\n",
        "𝑦\n",
        "1\n",
        "∣\n",
        "+\n",
        "⋯\n",
        "+\n",
        "∣\n",
        "𝑧\n",
        "𝑛\n",
        "−\n",
        "𝑧\n",
        "𝑛\n",
        "∣\n",
        "d=∣x\n",
        "2\n",
        "​\n",
        " −x\n",
        "1\n",
        "​\n",
        " ∣+∣y\n",
        "2\n",
        "​\n",
        " −y\n",
        "1\n",
        "​\n",
        " ∣+⋯+∣z\n",
        "n\n",
        "​\n",
        " −z\n",
        "n\n",
        "​\n",
        " ∣\n",
        "\n",
        "Aquí tienes una función en Python para calcular la distancia de Manhattan entre dos puntos en un espacio n-dimensional:"
      ],
      "metadata": {
        "id": "hRbdqJiAcFQ7"
      }
    },
    {
      "cell_type": "code",
      "source": [
        "#crear la función para calcular la distancia de Manhattan\n",
        "import numpy as np\n",
        "point_a_np = np.array([1, 1, 1])\n",
        "point_b_np = np.array([4, 5, 6])\n",
        "distance_numpy = np.sum(np.abs(point_a_np - point_b_np))\n",
        "print(f\"Manhattan distance (NumPy): {distance_numpy}\")\n"
      ],
      "metadata": {
        "id": "XWwxjeu7cCyZ",
        "colab": {
          "base_uri": "https://localhost:8080/"
        },
        "outputId": "e6fd5516-2e4e-4fa8-e6f6-0e02c31230f7"
      },
      "execution_count": null,
      "outputs": [
        {
          "output_type": "stream",
          "name": "stdout",
          "text": [
            "Manhattan distance (NumPy): 12\n"
          ]
        }
      ]
    },
    {
      "cell_type": "code",
      "source": [
        "#Calcuar mediante\n",
        "from scipy.spatial.distance import cityblock\n",
        "point_a = (1, 1, 1)\n",
        "point_b = (4, 5, 6)\n",
        "distance_scipy = cityblock(point_a, point_b)\n",
        "print(f\"Manhattan distance (SciPy): {distance_scipy}\")"
      ],
      "metadata": {
        "id": "RfcR0lqufn3W",
        "colab": {
          "base_uri": "https://localhost:8080/"
        },
        "outputId": "c1d41162-dd02-4894-dc94-0ddcc8f733b2"
      },
      "execution_count": null,
      "outputs": [
        {
          "output_type": "stream",
          "name": "stdout",
          "text": [
            "Manhattan distance (SciPy): 12\n"
          ]
        }
      ]
    },
    {
      "cell_type": "code",
      "source": [],
      "metadata": {
        "id": "NGGNPgMun-Fh"
      },
      "execution_count": null,
      "outputs": []
    },
    {
      "cell_type": "code",
      "source": [
        "#Crear la función para calcular la distancia de Manhattan\n",
        "def distancia_manhattan(punto1, punto2):\n",
        "    if len(punto1) != len(punto2):\n",
        "        raise ValueError(\"Los puntos deben tener la misma dimensión\")\n",
        "\n",
        "    suma = 0\n",
        "    for i in range(len(punto1)):\n",
        "        suma += abs(punto2[i] - punto1[i])\n",
        "\n",
        "    return suma\n",
        "\n",
        "# Ejemplo de uso:\n",
        "punto1 = (1, 2, 3)\n",
        "punto2 = (4, 5, 6)\n",
        "print(distancia_manhattan(punto1, punto2))  # Salida: 9"
      ],
      "metadata": {
        "colab": {
          "base_uri": "https://localhost:8080/"
        },
        "id": "thMuBRcVn9TL",
        "outputId": "223b08d0-6c92-4380-81e3-9e634ca97ccc"
      },
      "execution_count": null,
      "outputs": [
        {
          "output_type": "stream",
          "name": "stdout",
          "text": [
            "9\n"
          ]
        }
      ]
    },
    {
      "cell_type": "code",
      "source": [
        "import matplotlib.pyplot as plt\n",
        "\n",
        "def distancia_manhattan(punto1, punto2):\n",
        "    return abs(punto2[0] - punto1[0]) + abs(punto2[1] - punto1[1])\n",
        "\n",
        "# Definir los puntos\n",
        "punto1 = (1, 2, 3)\n",
        "punto2 = (4, 5, 6)\n",
        "\n",
        "# Calcular la distancia de Manhattan\n",
        "distancia = distancia_manhattan(punto1, punto2)\n",
        "\n",
        "# Crear la gráfica\n",
        "fig, ax = plt.subplots()\n",
        "\n",
        "# Graficar los puntos\n",
        "ax.plot(punto1[0], punto1[1], 'bo', label='Punto 1')\n",
        "ax.plot(punto2[0], punto2[1], 'ro', label='Punto 2')\n",
        "\n",
        "# Dibujar las líneas que representan la distancia Manhattan\n",
        "# Línea vertical\n",
        "ax.plot([punto1[0], punto1[0]], [punto1[1], punto2[1]], 'k--', label='Distancia Vertical')\n",
        "\n",
        "# Línea horizontal\n",
        "ax.plot([punto1[0], punto2[0]], [punto2[1], punto2[1]], 'k--', label='Distancia Horizontal')\n",
        "\n",
        "# Línea diagonal entre los puntos\n",
        "ax.plot([punto1[0], punto2[0]], [punto1[1], punto2[1]], 'k-', label='Distancia Directa')\n",
        "\n",
        "# Configurar etiquetas y título\n",
        "ax.set_xlabel('X')\n",
        "ax.set_ylabel('Y')\n",
        "ax.set_title('Distancia Manhattan entre dos puntos')\n",
        "ax.legend()\n",
        "\n",
        "# Mostrar la gráfica\n",
        "plt.grid(True)\n",
        "plt.show()\n"
      ],
      "metadata": {
        "colab": {
          "base_uri": "https://localhost:8080/",
          "height": 472
        },
        "id": "5Bsj5GVkctxV",
        "outputId": "3616819b-ad34-4de2-9881-d274756905ff"
      },
      "execution_count": null,
      "outputs": [
        {
          "output_type": "display_data",
          "data": {
            "text/plain": [
              "<Figure size 640x480 with 1 Axes>"
            ],
            "image/png": "[encoded data removed]"
          },
          "metadata": {}
        }
      ]
    },
    {
      "cell_type": "markdown",
      "source": [
        "### Distancia de Hamming\n",
        "Es empleada para calcular la diferencia entre dos secuencias de\n",
        "igual longitud. Se cuenta el número de posiciones en las cuales\n",
        "los símbolos correspondientes son diferentes. Por ejemplo, para\n",
        "las secuencias x y y, la distancia d se calcula como:\n"
      ],
      "metadata": {
        "id": "4Ka-ld3viNJA"
      }
    },
    {
      "cell_type": "code",
      "source": [
        "def hamming_distance(cad1, cad2):\n",
        "  if len(cad1) != len(cad2):\n",
        "    raise ValueError(\"Las secuencias deben tener la misma longitud\")\n",
        "  return sum(val1 != val2 for val1, val2 in zip(cad1, cad2))\n",
        "#Ejemplo de uso\n",
        "cadena1 = \"ATpp\"\n",
        "cadena2 = \"ATCG\"\n",
        "print(\"Distancia de Hamming: \", hamming_distance(cadena1, cadena2))\n"
      ],
      "metadata": {
        "colab": {
          "base_uri": "https://localhost:8080/"
        },
        "id": "ueWmzukaqrwR",
        "outputId": "f1bc7bce-13d9-420d-dc7c-5f1b4710270f"
      },
      "execution_count": null,
      "outputs": [
        {
          "output_type": "stream",
          "name": "stdout",
          "text": [
            "Distancia de Hamming:  2\n"
          ]
        }
      ]
    },
    {
      "cell_type": "markdown",
      "source": [
        "###Distancia de Chevysheb\n",
        "Esta distancia se define como la mayor diferencia entre las\n",
        "coordenadas de los puntos en cada dimensión. Para dos puntos\n",
        "(x1, y1), (x2, y2) se calcula como"
      ],
      "metadata": {
        "id": "jfCC8Ax_r-i_"
      }
    },
    {
      "cell_type": "code",
      "source": [
        "import math\n",
        "\n",
        "class Chebyshev:\n",
        "    \"\"\"\n",
        "    Chebyshev(a, b, n, func)\n",
        "    Given a function func, lower and upper limits of the interval [a,b],\n",
        "    and maximum degree n, this class computes a Chebyshev approximation\n",
        "    of the function.\n",
        "    Method eval(x) yields the approximated function value.\n",
        "    \"\"\"\n",
        "    def __init__(self, a, b, n, func):\n",
        "        self.a = a\n",
        "        self.b = b\n",
        "        self.func = func\n",
        "\n",
        "        bma = 0.5 * (b - a)\n",
        "        bpa = 0.5 * (b + a)\n",
        "        f = [func(math.cos(math.pi * (k + 0.5) / n) * bma + bpa) for k in range(n)]\n",
        "        fac = 2.0 / n\n",
        "        self.c = [fac * sum([f[k] * math.cos(math.pi * j * (k + 0.5) / n)\n",
        "                  for k in range(n)]) for j in range(n)]\n",
        "\n",
        "    def eval(self, x):\n",
        "        a,b = self.a, self.b\n",
        "        assert(a <= x <= b)\n",
        "        y = (2.0 * x - a - b) * (1.0 / (b - a))\n",
        "        y2 = 2.0 * y\n",
        "        (d, dd) = (self.c[-1], 0)             # Special case first step for efficiency\n",
        "        for cj in self.c[-2:0:-1]:            # Clenshaw's recurrence\n",
        "            (d, dd) = (y2 * d - dd + cj, d)\n",
        "        return y * d - dd + 0.5 * self.c[0]   # Last step is different\n"
      ],
      "metadata": {
        "id": "c1f4Jh_Nr9X6"
      },
      "execution_count": null,
      "outputs": []
    },
    {
      "cell_type": "code",
      "source": [
        "ch = Chebyshev(0, math.pi / 12, 8, math.sin)\n",
        "ch.eval(0.1)\n",
        "#0.099833416646828876\n",
        "math.sin(0.1)\n",
        "#0.099833416646828155"
      ],
      "metadata": {
        "colab": {
          "base_uri": "https://localhost:8080/"
        },
        "id": "aL949H86x_lo",
        "outputId": "26985084-5e52-4c1e-fe46-e765b08c09b5"
      },
      "execution_count": null,
      "outputs": [
        {
          "output_type": "execute_result",
          "data": {
            "text/plain": [
              "0.09983341664682815"
            ]
          },
          "metadata": {},
          "execution_count": 52
        }
      ]
    },
    {
      "cell_type": "markdown",
      "source": [
        "###Distancia Coseno:\n",
        "\n",
        "Mide el coseno del ángulo entre dos vectores en un espacio\n",
        "multidimensional. Se emplea para calcular la diferencia entre\n",
        "conceptos en modelos de análisis de textos. Por ejemplo, con la\n",
        "distancia coseno es posible calcular las diferencias que hay\n",
        "entre ideas como hombre – mujer, y esta distancia debe ser\n",
        "similar a la que existe entre rey – reina. Con esto, los modelos\n",
        "de lenguaje tienen una codificación que ayuda al entendimiento\n",
        "de las palabras"
      ],
      "metadata": {
        "id": "wn5_sJ8a0JzI"
      }
    },
    {
      "cell_type": "code",
      "source": [
        "from numpy import dot\n",
        "from numpy.linalg import norm\n",
        "\n",
        "List1 = [4, 47, 8, 3]\n",
        "List2 = [3, 52, 12, 16]\n",
        "result = dot(List1, List2) / (norm(List1) * norm(List2))\n",
        "print(result)"
      ],
      "metadata": {
        "colab": {
          "base_uri": "https://localhost:8080/"
        },
        "id": "iiE8Hq9l0BW9",
        "outputId": "a2a77296-ec89-41a9-bc93-47ecbde51a53"
      },
      "execution_count": null,
      "outputs": [
        {
          "output_type": "stream",
          "name": "stdout",
          "text": [
            "0.9720951480078084\n"
          ]
        }
      ]
    },
    {
      "cell_type": "markdown",
      "source": [
        "###Distancia de Jaccard:\n",
        "\n",
        "Se emplea para medir qué tan similares son dos conjuntos,\n",
        "generalmente binarios. Es la relación entre el número de\n",
        "elementos comunes entre dos conjuntos y el número total de\n",
        "elementos en los conjuntos. Permite establecer la similaridad y\n",
        "se calcula como:"
      ],
      "metadata": {
        "id": "m2u8lOOO0ap7"
      }
    },
    {
      "cell_type": "code",
      "source": [
        "\n",
        "from typing import Set\n",
        "def jaccard_similar(set1: Set, set2: Set) -> float:\n",
        "    \"\"\"\n",
        "    Calcula la similitud de Jaccard entre dos conjuntos.\n",
        "    Parámetros\n",
        "    ----------\n",
        "        set1 : Set\n",
        "            Primer conjunto.\n",
        "\n",
        "        set2 : Set\n",
        "            Segundo conjunto.\n",
        "    Retorna\n",
        "    -------\n",
        "        similarity : float\n",
        "            Valor de similitud de Jaccard en el rango [0, 1].\n",
        "\n",
        "    \"\"\"\n",
        "    intersection = len(set1.intersection(set2))\n",
        "    union = len(set1.union(set2))\n",
        "    similar = intersection / union\n",
        "    return similar\n",
        "\n"
      ],
      "metadata": {
        "id": "qLTZpetV0lpN"
      },
      "execution_count": null,
      "outputs": []
    },
    {
      "cell_type": "code",
      "source": [
        "# Ejemplo de uso\n",
        "conjunto1 = {1, 2, 3, 4, 5}\n",
        "conjunto2 = {3, 4, 5, 6, 7}\n",
        "similitud = jaccard_similar(conjunto1, conjunto2)\n",
        "print(f\"La similitud de Jaccard entre los conjuntos es: {similitud}\")"
      ],
      "metadata": {
        "colab": {
          "base_uri": "https://localhost:8080/"
        },
        "id": "HKombOoI1Wn9",
        "outputId": "8387c43d-7941-4d02-967f-51b43eaa0eeb"
      },
      "execution_count": null,
      "outputs": [
        {
          "output_type": "stream",
          "name": "stdout",
          "text": [
            "La similitud de Jaccard entre los conjuntos es: 0.42857142857142855\n"
          ]
        }
      ]
    },
    {
      "cell_type": "markdown",
      "source": [
        "Para comprobar el resultado solamente se tiene que calcular la intersección de los dos conjuntos, {3, 4, 5}, y la unión, {1, 2, 3, 4, 5, 6, 7}. Por lo que la similaridad de Jaccard no es más que el cociente del tamaño de los dos, esto es 3/7, o lo que es lo mismo 0,428, el valor que ha devuelto la función. Por lo que se puede ver que la función funciona correctamente."
      ],
      "metadata": {
        "id": "LiuMZRdC14BB"
      }
    }
  ]
}