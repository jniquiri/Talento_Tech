{
  "nbformat": 4,
  "nbformat_minor": 0,
  "metadata": {
    "colab": {
      "provenance": [],
      "authorship_tag": "ABX9TyPycb2EA8n9ZDknMkY0/x7Y",
      "include_colab_link": true
    },
    "kernelspec": {
      "name": "python3",
      "display_name": "Python 3"
    },
    "language_info": {
      "name": "python"
    }
  },
  "cells": [
    {
      "cell_type": "markdown",
      "metadata": {
        "id": "view-in-github",
        "colab_type": "text"
      },
      "source": [
        "<a href=\"https://colab.research.google.com/github/jniquiri/Talento_Tech/blob/main/Mi_primer_programa.ipynb\" target=\"_parent\"><img src=\"https://colab.research.google.com/assets/colab-badge.svg\" alt=\"Open In Colab\"/></a>"
      ]
    },
    {
      "cell_type": "code",
      "execution_count": null,
      "metadata": {
        "colab": {
          "base_uri": "https://localhost:8080/"
        },
        "id": "dxmlw4OaF56c",
        "outputId": "1aae00a8-d614-4400-f39d-7804accf6308"
      },
      "outputs": [
        {
          "output_type": "stream",
          "name": "stdout",
          "text": [
            "**hola mundo**\n"
          ]
        }
      ],
      "source": [
        "print(\"**hola mundo**\")\n"
      ]
    },
    {
      "cell_type": "code",
      "source": [
        "print (\"Este es mi primer programa en PYTHON\")\n",
        "Nomb1 = input(\"Ingesa tu nombre: \")\n",
        "Nomb2 = input(\"Ingesa tu apellido: \")\n",
        "print(\"hola: \", Nomb1, Nomb2)\n",
        "Edad = int(input(\"¿Cuantos años tienes?: \"))\n",
        "print(\"Tu edad es:\", Edad)\n"
      ],
      "metadata": {
        "colab": {
          "base_uri": "https://localhost:8080/"
        },
        "id": "5wczc7HdIkLx",
        "outputId": "c08e51b1-7d2f-478d-e074-d10652bcb871"
      },
      "execution_count": null,
      "outputs": [
        {
          "output_type": "stream",
          "name": "stdout",
          "text": [
            "Este ea mi primer programa en PYTHON\n",
            "Ingesa tu nombre: JORGE\n",
            "Ingesa tu apellido: NIQUNAS\n",
            "hola:  JORGE NIQUNAS\n",
            "¿Cuantos años tienes?: 57\n",
            "Tu edad es: 57\n"
          ]
        }
      ]
    },
    {
      "cell_type": "code",
      "source": [
        "#Código para ejecutar mi primera calculadora#\n",
        "print(\"Mi primera calculadora en Python\")\n",
        "print(\"\\n\")\n",
        "\n",
        "\n",
        "num1 = float(input(\"Introduce el primer número: \"))\n",
        "num2 = float(input(\"Introduce el segundo número: \"))\n",
        "#M E N U #\n",
        "print(\"\\nMenu de la calculadora\")\n",
        "#print(\"\\nPor favor, elige una operación:\")#\n",
        "print(\"\\n1. Suma\")\n",
        "print(\"2. Resta\")\n",
        "print(\"3. Multiplicación\")\n",
        "print(\"4. División\")\n",
        "\n",
        "operador = input(\"\\nPor favor elige la operación a realizar: \")\n",
        "resultado = 0\n",
        "\n",
        "if operador == '1':\n",
        "    resultado = num1 + num2\n",
        "elif operador == '2':\n",
        "    resultado = num1 - num2\n",
        "elif operador == '3':\n",
        "    resultado = num1 * num2\n",
        "elif operador == '4':\n",
        "    resultado = num1 / num2\n",
        "\n",
        "print(\"\\nEl resultado de la operación es:\", resultado)\n"
      ],
      "metadata": {
        "colab": {
          "base_uri": "https://localhost:8080/"
        },
        "id": "eeOwBVtUFogF",
        "outputId": "29a8c147-5d1c-4566-90cb-76285e057684"
      },
      "execution_count": null,
      "outputs": [
        {
          "output_type": "stream",
          "name": "stdout",
          "text": [
            "Mi primera calculadora en Python\n",
            "\n",
            "\n",
            "Introduce el primer número: 34\n",
            "Introduce el segundo número: 19\n",
            "\n",
            "Menu de la calculadora\n",
            "\n",
            "1. Suma\n",
            "2. Resta\n",
            "3. Multiplicación\n",
            "4. División\n",
            "\n",
            "Por favor elige la operación a realizar: 4\n",
            "\n",
            "El resultado de la operación es: 1.7894736842105263\n"
          ]
        }
      ]
    },
    {
      "cell_type": "code",
      "source": [
        "import random\n",
        "\n",
        "def hangman():\n",
        "  words = [\"apple\", \"banana\", \"cherry\", \"dog\", \"elephant\"]\n",
        "  word = random.choice(words)\n",
        "  guessed_letters = []\n",
        "  mistakes = 0\n",
        "\n",
        "  while mistakes < 6:\n",
        "    print(\"Word:\", \" \".join([\"_\" if letter not in guessed_letters else letter for letter in word]))\n",
        "    guess = input(\"Guess a letter: \").lower()\n",
        "\n",
        "    if guess in word and guess not in guessed_letters:\n",
        "      guessed_letters.append(guess)\n",
        "    else:\n",
        "      mistakes += 1\n",
        "\n",
        "    if all(letter in guessed_letters for letter in word):\n",
        "      print(\"You win!\")\n",
        "      break\n",
        "\n",
        "    if mistakes == 6:\n",
        "      print(\"You lose! The word was\", word)\n",
        "\n",
        "hangman()"
      ],
      "metadata": {
        "colab": {
          "base_uri": "https://localhost:8080/"
        },
        "id": "TWFsUeRGRlmM",
        "outputId": "53e7f872-1a1d-440b-98b0-293c22572e0f"
      },
      "execution_count": null,
      "outputs": [
        {
          "output_type": "stream",
          "name": "stdout",
          "text": [
            "Word: _ _ _ _ _\n",
            "Guess a letter: a\n",
            "Word: a _ _ _ _\n",
            "Guess a letter: e\n",
            "Word: a _ _ _ e\n",
            "Guess a letter: p\n",
            "Word: a p p _ e\n",
            "Guess a letter: l\n",
            "You win!\n"
          ]
        }
      ]
    },
    {
      "cell_type": "code",
      "source": [
        "def sumar(x,y):\n",
        "    suma=x+y\n",
        "    return suma\n",
        "\n",
        "resultado_suma=sumar(4.8,2.5)\n",
        "\n",
        "print(resultado_suma)\n"
      ],
      "metadata": {
        "colab": {
          "base_uri": "https://localhost:8080/"
        },
        "id": "KF6ebKxm819e",
        "outputId": "29fa557b-7850-4419-87ae-18e07fb7b498"
      },
      "execution_count": null,
      "outputs": [
        {
          "output_type": "stream",
          "name": "stdout",
          "text": [
            "7.3\n"
          ]
        }
      ]
    },
    {
      "cell_type": "code",
      "source": [
        "# Defino la función\n",
        "def saludar(hora):\n",
        "  # procesamos la hora\n",
        "  if 0<=hora<12:\n",
        "  \t#print(\"¡Buenos días!\")\n",
        "    saludo = \"¡Buenos días!\"\n",
        "\n",
        "  elif 12<=hora<=18.5:\n",
        "  \t#print(\"¡Buena tarde!\")\n",
        "    saludo = \"¡Buena tarde!\"\n",
        "\n",
        "  #18.5<hora<=23.99999999999999...:\n",
        "  else:\n",
        "  \t#print(\"¡Buenas noches!\")\n",
        "    saludo = \"¡Buenas noches!\"\n",
        "\n",
        "  # retonarnamos el saludo\n",
        "  return saludo\n",
        "\n",
        "# Voy a usar la función\n",
        "#hora=8\n",
        "#hora=13\n",
        "#hora=19\n",
        "saludo = saludar(18.509)\n",
        "print(saludo)\n"
      ],
      "metadata": {
        "colab": {
          "base_uri": "https://localhost:8080/"
        },
        "id": "_4NPTr5ILoIq",
        "outputId": "fb0f3cf2-1943-4f62-9cc2-72f2c885cdae"
      },
      "execution_count": null,
      "outputs": [
        {
          "output_type": "stream",
          "name": "stdout",
          "text": [
            "¡Buenas noches!\n"
          ]
        }
      ]
    },
    {
      "cell_type": "code",
      "source": [
        "#FUNCION para determinar si un número dado es par o impar\n",
        "número = float(input(\"digite el número:\"))\n",
        "\n",
        "def es_par(numero):\n",
        "  x = (type(numero))\n",
        "  print (x)\n",
        "  if numero % 2 == 0:\n",
        "    resultado = \"decimal\"\n",
        "  elif numero % 2 == 0:\n",
        "    #if\n",
        "    resultado = \"par\"\n",
        "  else:\n",
        "    resultado = \"impar\"\n",
        "  return resultado\n",
        "\n",
        "#    if es_par(número):\n",
        " # print(\"El númeor es par\")\n",
        "#else:\n",
        " # print(\"El número es impar\")\n",
        "\n",
        "resultado = es_par(número)\n",
        "print(\"El número es:\", resultado)"
      ],
      "metadata": {
        "colab": {
          "base_uri": "https://localhost:8080/"
        },
        "id": "V66MMBRUNS2V",
        "outputId": "262b3129-271a-4f34-d09f-b66c38ce4c86"
      },
      "execution_count": null,
      "outputs": [
        {
          "output_type": "stream",
          "name": "stdout",
          "text": [
            "digite el número:8\n",
            "<class 'float'>\n",
            "El número es: decimal\n"
          ]
        }
      ]
    },
    {
      "cell_type": "code",
      "source": [
        "# Program make a simple calculator\n",
        "# This function adds two numbers\n",
        "def add(x, y):\n",
        "    return x + y\n",
        "# This function subtracts two numbers\n",
        "def subtract(x, y):\n",
        "    return x - y\n",
        "# This function multiplies two numbers\n",
        "def multiply(x, y):\n",
        "    return x * y\n",
        "# This function divides two numbers\n",
        "def divide(x, y):\n",
        "    return x / y\n",
        "\n",
        "print(\"Select operation.\")\n",
        "print(\"1.Add\")\n",
        "print(\"2.Subtract\")\n",
        "print(\"3.Multiply\")\n",
        "print(\"4.Divide\")\n",
        "while True:\n",
        "    # take input from the user\n",
        "    choice = input(\"Enter choice(1/2/3/4): \")\n",
        "    # check if choice is one of the four options\n",
        "    if choice in ('1', '2', '3', '4'):\n",
        "        num1 = float(input(\"Enter first number: \"))\n",
        "        num2 = float(input(\"Enter second number: \"))\n",
        "        if choice == '1':\n",
        "            print(num1, \"+\", num2, \"=\", add(num1, num2))\n",
        "        elif choice == '2':\n",
        "            print(num1, \"-\", num2, \"=\", subtract(num1, num2))\n",
        "        elif choice == '3':\n",
        "            print(num1, \"*\", num2, \"=\", multiply(num1, num2))\n",
        "        elif choice == '4':\n",
        "            print(num1, \"/\", num2, \"=\", divide(num1, num2))\n",
        "\n",
        "        # check if user wants another calculation\n",
        "        # break the while loop if answer is no\n",
        "        next_calculation = input(\"Let's do next calculation? (yes/no): \")\n",
        "        if next_calculation == \"no\":\n",
        "          break\n",
        "\n",
        "    else:\n",
        "        print(\"Invalid Input\")"
      ],
      "metadata": {
        "colab": {
          "base_uri": "https://localhost:8080/"
        },
        "id": "qUDaN7f8jR82",
        "outputId": "c008f647-53fc-432c-8946-74a1b06d5ee5"
      },
      "execution_count": null,
      "outputs": [
        {
          "name": "stdout",
          "output_type": "stream",
          "text": [
            "Select operation.\n",
            "1.Add\n",
            "2.Subtract\n",
            "3.Multiply\n",
            "4.Divide\n",
            "Enter choice(1/2/3/4): 4\n",
            "Enter first number: 27\n",
            "Enter second number: 52\n",
            "27.0 / 52.0 = 0.5192307692307693\n",
            "Let's do next calculation? (yes/no): yes\n",
            "Enter choice(1/2/3/4): 3\n",
            "Enter first number: 27\n",
            "Enter second number: 52\n",
            "27.0 * 52.0 = 1404.0\n",
            "Let's do next calculation? (yes/no): no\n"
          ]
        }
      ]
    },
    {
      "cell_type": "code",
      "source": [
        "#Mi primer programa en PYTHON\n",
        "print (0b1001)\n",
        "print (0xb16a)\n",
        "\n",
        "name, surname, age = \"jorge\", \"Niquinás\", \"57\"\n",
        "print (\"Mi nombre es:  {} {} y mi edad es : {}\". format(name, surname,age))\n",
        "\n",
        "languaje = \"querido mundo\"\n",
        "languaje2 = \"QUERIDO MUNDO\"\n",
        "print(languaje.capitalize())\n",
        "print(languaje.upper())\n",
        "print(languaje.count(\"o\"))\n",
        "print (languaje2.lower())\n",
        "\n",
        "print (\"Este es mi primer programa en PYTHON\")\n",
        "Nomb1 = input(\"Ingesa tu nombre: \")\n",
        "Nomb2 = input(\"Ingesa tu apellido: \")\n",
        "print(\"hola: \", Nomb1, Nomb2)\n",
        "Edad = int(input(\"¿Cuantos años tienes?: \"))\n",
        "print(\"Tu edad es:\", Edad)\n",
        "print(\"\\n**********     F I N     **********\")\n",
        "\n",
        "#listadepalabras = ['hormiga, babuino, tejon, murcielago, oso, castor camello, gato, almeja, cobra, pantera, coyote, cuervo, ciervo, perro, burro, pato, aguila, huron, zorro, rana, cabra, ganso, halcon, leon, lagarto, llama, topo, mono, alce, raton, mula, salamandra, nutria, buho, panda, loro, paloma, piton, conejo, carnero, rata, cuervo, rinoceronte, salmon, foca, tiburon, oveja, mofeta, perezoso, serpiente, araña, cigüeña, cisne, tigre, sapo, trucha, pavo, tortuga, comadreja, ballena, lobo, wombat, cebra'].split()\n",
        "#print(listadepalabras)\n",
        "\n",
        "\"\"\"Programa verificación tipo de datos\"\"\"\n",
        "\n",
        "Var_Entero = int(input(\"Esciba un valor entero corto: \"))\n",
        "Var_Largo = int(input(\"Esciba un valor entero largo: \"))\n",
        "Var_Real = float(input(\"Esciba un valor con decimales: \"))\n",
        "Var_Complejo = complex(input(\"Escriba un valor complejo(a + bj): \"))\n",
        "Var_Cadena = str(input(\"Esciba una cadena : \"))\n",
        "Var_booleano = bool(input(\"Esciba un valor booleano (true/false): \"))\n",
        "\n",
        "print(\"A continuación se muestran los valores leidos y su tipo Python\")\n",
        "print(Var_Entero, type(Var_Entero))\n",
        "print(Var_Largo, type(Var_Largo))\n",
        "print(Var_Real, type(Var_Real))\n",
        "print(Var_Entero, type(Var_Entero))\n",
        "print(Var_Complejo, type(Var_Complejo))\n",
        "print(Var_Cadena, type(Var_Cadena))\n",
        "print(Var_booleano, type(Var_booleano))\n",
        "print(\"\\n**********     F I N     **********\")\n",
        "\n",
        "#Programa para calcular el promedio de ventas\n",
        "Cod_Vendedor = input(\"Código vendedor: \")\n",
        "Nom_Vendedor = input(\"Nombre vendedor: \")\n",
        "\n",
        "Ventas_enero = int(input(\"Artículos vendidos en enero: \"))\n",
        "Ventas_febrero = int(input(\"Artículos vendidos en febrero: \"))\n",
        "Ventas_marzo = int(input(\"Artículos vendidos en marzo: \"))\n",
        "\n",
        "#Cálculo promedio de las ventas\n",
        "Prom_ventas = (Ventas_enero + Ventas_febrero + Ventas_marzo)/3\n",
        "\n",
        "#Reporte de ventas\n",
        "print(\"\\n\\n Código Vendedor: \", Cod_Vendedor)\n",
        "print(\" Nombre Vendedor: \", Nom_Vendedor)\n",
        "print(\"\\n Ventas enero: \\t\\t\", Ventas_enero)\n",
        "print(\"\\n Ventas febrero: \\t\\t\", Ventas_febrero)\n",
        "print(\"\\n Ventas marzo: \\t\\t\", Ventas_marzo)\n",
        "print(\"\\n Proomedio de ventas\\t\\t: \", (round(Prom_ventas,2)))\n",
        "if Prom_ventas >= 1000:\n",
        "    print(\"\\nAlcanzó la meta de 1000 artículos vendidos\")\n",
        "else:\n",
        "    print(\"\\n No alcanzó la meta de 1000 artículos vendidos\")\n",
        "print(\"\\n**********     F I N     **********\")\n",
        "\n",
        "#Código que permite encontrar si un valor escrito por el usuario está en un\n",
        "# subconjunto de datos (lista)\n",
        "\n",
        "def buscadatoenlista (datoabuscar, lista):  #Definición de la función\n",
        "    r = False   #Se asigna valor Falso a la variable r\n",
        "    for i in lista: #Se busca en la lista\n",
        "        if i==datoabuscar:   #Si se encuentra\n",
        "            r=True      #la variable r es Verdadero\n",
        "    return r        #Retorna r\n",
        "\n",
        "milista =[1,2,3,4,5]        #Se crea la lista\n",
        "Dato=int(input(\"Dato a buscar: \" ))     #Se pide dato a buscar\n",
        "\n",
        "if buscadatoenlista(Dato, milista):     #Si la ffunción retorna Verdadero\n",
        "    print(\"******   Lo encontreeee   **********\")       #se avisa\n",
        "else:       #Ai retorna falso\n",
        "    print(\"**********   Nooo lo encontre   *******\")        #También se avisa\n",
        "print(\"\\nFFFIIINNN\\n\")        #Fin del programa\n",
        "\n",
        "#*************************************************************************\n",
        "#************************************************************************+\n",
        "#G E N E R A D O R E S\n",
        "\n",
        "#Ejemplo utilizando funciones que muestre los múltiplos de 3 en el rango de 1 a tope\n",
        "#siendo tope un valor especificado\n",
        "def multiplosde3(tope): #define la función parámetro tope\n",
        "    num=3       #inicia num con valor 3\n",
        "    milista=[]  #inicia lista vacia\n",
        "    while num<tope:     #Mientras num sea menor que tope\n",
        "        milista.append((num))       #anexe num a la lista con la función append\n",
        "        num=num+3           #incremente num en 3\n",
        "    return milista          #Finaliza el ciclo while y retorna la lista de números\n",
        "print(\"multiplos de 3 en el rango de 1 a 20: \", multiplosde3(20))     #Muestra los multiplos de 3 en el rango de 1 a 20\n",
        "print(\"\\nFFFIIINNN programa con funciones\\n\")        #Fin del programa\n",
        "\n",
        "#Programa que resulve el mismo problema anterior utilizando generadores.\n",
        "def multipl3(tope): #define la función, parámetro tope\n",
        "    num=3       #inicia num con valor 3\n",
        "    while num<tope:     #Mientras num sea menor que tope\n",
        "        yield num       #Genere num: en esta linea la instrucción indica que retorne el valor de num\n",
        "                        #y que, temporalmente, pause el funcionamiento de la función mientras\n",
        "                        #se realiza el proceso respectivo con el valor generado\n",
        "        num=num+3       #incremente num en 3\n",
        "multipgen=multipl3(20)  #Almacene el resultado de la función: En esta linea se almacena cada valor extraido\n",
        "                        #uno por uno y se realiza la instrucción siguiente, mientras,la función se pausa\n",
        "#for i in multipgen:\n",
        "#    print(i)\n",
        "multipgen=multipl3(20)\n",
        "print(next(multipgen))          #Devuelve el 1er valor\n",
        "print(next(multipgen))          #Devuelve el 2do valor\n",
        "\n",
        "#print(\"multiplos de 3 en el rango de 1 a 20: \", multiplosde3(20))     #Muestra los multiplos de 3 en el rango de 1 a 20\n",
        "print(\"\\nFFFIIINNN programa con generadores\\n\")        #Fin del programa\n",
        "\n",
        "\n",
        "#Progama calcula promedio, media y moda de un conjunto\n",
        "import numpy as np\n",
        "import statistics\n",
        "\n",
        "print(\"!Hello, World!\\n\")\n",
        "\n",
        "velocidad = [99,86,87,88,111,86,103,87,94,78,77,85,86]\n",
        "\n",
        "promedio = np.mean(velocidad)\n",
        "mediana = np.median(velocidad)\n",
        "#mediana = np.moda(velocidad)\n",
        "mode = statistics.mode(velocidad)\n",
        "\n",
        "print(\"Promedio: \", (round(promedio,2)))\n",
        "print(\"Mediana: \", mediana)\n",
        "print(\"Moda:\", mode)\n",
        "\n",
        "print(\"\\n**********     F I N     **********\")"
      ],
      "metadata": {
        "colab": {
          "base_uri": "https://localhost:8080/"
        },
        "id": "e-LddCs-h7Nm",
        "outputId": "d336473e-4ce2-4427-e91b-0e827596682e"
      },
      "execution_count": 4,
      "outputs": [
        {
          "output_type": "stream",
          "name": "stdout",
          "text": [
            "9\n",
            "45418\n",
            "Mi nombre es:  jorge Niquinás y mi edad es : 57\n",
            "Querido mundo\n",
            "QUERIDO MUNDO\n",
            "2\n",
            "querido mundo\n",
            "Este es mi primer programa en PYTHON\n",
            "Ingesa tu nombre: jorge\n",
            "Ingesa tu apellido: niquinas\n",
            "hola:  jorge niquinas\n",
            "¿Cuantos años tienes?: 34\n",
            "Tu edad es: 34\n",
            "\n",
            "**********     F I N     **********\n",
            "Esciba un valor entero corto: 3\n",
            "Esciba un valor entero largo: 3333\n",
            "Esciba un valor con decimales: 2.8\n",
            "Escriba un valor complejo(a + bj): 2+6j\n",
            "Esciba una cadena : swedsweds\n",
            "Esciba un valor booleano (true/false): true\n",
            "A continuación se muestran los valores leidos y su tipo Python\n",
            "3 <class 'int'>\n",
            "3333 <class 'int'>\n",
            "2.8 <class 'float'>\n",
            "3 <class 'int'>\n",
            "(2+6j) <class 'complex'>\n",
            "swedsweds <class 'str'>\n",
            "True <class 'bool'>\n",
            "\n",
            "**********     F I N     **********\n",
            "Código vendedor: 2\n",
            "Nombre vendedor: edrf\n",
            "Artículos vendidos en enero: 345\n",
            "Artículos vendidos en febrero: 567\n",
            "Artículos vendidos en marzo: 5677\n",
            "\n",
            "\n",
            " Código Vendedor:  2\n",
            " Nombre Vendedor:  edrf\n",
            "\n",
            " Ventas enero: \t\t 345\n",
            "\n",
            " Ventas febrero: \t\t 567\n",
            "\n",
            " Ventas marzo: \t\t 5677\n",
            "\n",
            " Proomedio de ventas\t\t:  2196.33\n",
            "\n",
            "Alcanzó la meta de 1000 artículos vendidos\n",
            "\n",
            "**********     F I N     **********\n",
            "Dato a buscar: 2\n",
            "******   Lo encontreeee   **********\n",
            "\n",
            "FFFIIINNN\n",
            "\n",
            "multiplos de 3 en el rango de 1 a 20:  [3, 6, 9, 12, 15, 18]\n",
            "\n",
            "FFFIIINNN programa con funciones\n",
            "\n",
            "3\n",
            "6\n",
            "\n",
            "FFFIIINNN programa con generadores\n",
            "\n",
            "!Hello, World!\n",
            "\n",
            "Promedio:  89.77\n",
            "Mediana:  87.0\n",
            "Moda: 86\n",
            "\n",
            "**********     F I N     **********\n"
          ]
        }
      ]
    }
  ]
}