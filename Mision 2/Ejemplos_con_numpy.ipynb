{
  "nbformat": 4,
  "nbformat_minor": 0,
  "metadata": {
    "colab": {
      "provenance": []
    },
    "kernelspec": {
      "name": "python3",
      "display_name": "Python 3"
    },
    "language_info": {
      "name": "python"
    }
  },
  "cells": [
    {
      "cell_type": "markdown",
      "source": [
        "####Ejemplos con numpy\n",
        "###Estos son los ejercicios resueltos del taller del Bootcamp"
      ],
      "metadata": {
        "id": "7ChBG7h0i5m-"
      }
    },
    {
      "cell_type": "code",
      "execution_count": null,
      "metadata": {
        "id": "OZHG765WiT8I"
      },
      "outputs": [],
      "source": [
        "#importar librería numpy\n",
        "import numpy as np\n"
      ]
    },
    {
      "cell_type": "code",
      "source": [
        "print(np.__version__)\n"
      ],
      "metadata": {
        "colab": {
          "base_uri": "https://localhost:8080/"
        },
        "id": "KJT9i-8ZjYP_",
        "outputId": "8e8419b3-2d7f-4348-eca0-848f585b47c0"
      },
      "execution_count": null,
      "outputs": [
        {
          "output_type": "stream",
          "name": "stdout",
          "text": [
            "1.26.4\n"
          ]
        }
      ]
    },
    {
      "cell_type": "markdown",
      "source": [
        "####Creación de ndarrays"
      ],
      "metadata": {
        "id": "7AWn0W4BlNkw"
      }
    },
    {
      "cell_type": "code",
      "source": [
        "#creación de lista de números\n",
        "numeros = [1,2,3,4,5,6]\n",
        "\n",
        "numeros"
      ],
      "metadata": {
        "colab": {
          "base_uri": "https://localhost:8080/"
        },
        "id": "v6ZoYGT_jUFP",
        "outputId": "29e50e9f-c695-4f57-dae8-98ad1d2295d2"
      },
      "execution_count": null,
      "outputs": [
        {
          "output_type": "execute_result",
          "data": {
            "text/plain": [
              "[1, 2, 3, 4, 5, 6]"
            ]
          },
          "metadata": {},
          "execution_count": 11
        }
      ]
    },
    {
      "cell_type": "code",
      "source": [
        "#creación de un ndarray a partir de la lista\n",
        "\n",
        "ndarray_numeros = np.array (numeros)\n",
        "\n",
        "print (ndarray_numeros)\n",
        "\n",
        "#Salida: [1 2 3 4 5 6]"
      ],
      "metadata": {
        "colab": {
          "base_uri": "https://localhost:8080/"
        },
        "id": "yv6XGHMkjjJl",
        "outputId": "3a2d6a37-95e0-4a8d-ddfc-fe8731d5127c"
      },
      "execution_count": null,
      "outputs": [
        {
          "output_type": "stream",
          "name": "stdout",
          "text": [
            "[1 2 3 4 5 6]\n"
          ]
        }
      ]
    },
    {
      "cell_type": "code",
      "source": [
        "#especificación dimensiones y valores\n",
        "#Creación de un ndarray de 2X3 con ceros\n",
        "matriz_ceros = np.zeros((2, 3))\n",
        "matriz_ceros\n",
        "\n"
      ],
      "metadata": {
        "id": "H8mC0rMUjnht",
        "colab": {
          "base_uri": "https://localhost:8080/"
        },
        "outputId": "542d62cc-6032-45fb-cd74-0db2da5a085f"
      },
      "execution_count": null,
      "outputs": [
        {
          "output_type": "execute_result",
          "data": {
            "text/plain": [
              "array([[0., 0., 0.],\n",
              "       [0., 0., 0.]])"
            ]
          },
          "metadata": {},
          "execution_count": 13
        }
      ]
    },
    {
      "cell_type": "code",
      "source": [
        "#Creación de un ndarray de 3X3 con unos\n",
        "matriz_unos = np.ones((3, 3))\n",
        "\n",
        "matriz_unos"
      ],
      "metadata": {
        "colab": {
          "base_uri": "https://localhost:8080/"
        },
        "id": "iH1J1DD8jrM2",
        "outputId": "0ba9ec8d-a89e-4c77-e137-3c7a1a1b90f9"
      },
      "execution_count": null,
      "outputs": [
        {
          "output_type": "execute_result",
          "data": {
            "text/plain": [
              "array([[1., 1., 1.],\n",
              "       [1., 1., 1.],\n",
              "       [1., 1., 1.]])"
            ]
          },
          "metadata": {},
          "execution_count": 53
        }
      ]
    },
    {
      "cell_type": "code",
      "source": [
        "#Creación de un ndarray de con valores específicos\n",
        "matriz_personalizado = np.array([[1,2,3],[4,5,6],[7,8,9]])\n",
        "\n",
        "matriz_personalizado"
      ],
      "metadata": {
        "colab": {
          "base_uri": "https://localhost:8080/"
        },
        "id": "IX83q-bXjts2",
        "outputId": "77c17d6e-c57e-40c8-c1a8-66258f62c631"
      },
      "execution_count": null,
      "outputs": [
        {
          "output_type": "execute_result",
          "data": {
            "text/plain": [
              "array([[1, 2, 3],\n",
              "       [4, 5, 6],\n",
              "       [7, 8, 9]])"
            ]
          },
          "metadata": {},
          "execution_count": 15
        }
      ]
    },
    {
      "cell_type": "markdown",
      "source": [
        "####FUNCIONES DE NUMPY np.arange(inicio, fin, paso) Crea un ndarray con un rango de valores.\n",
        "####Parámetros: inicio: Valor inicial (incluido). fin: valor final (excluido). paso: diferencia entre valores consecutivos.\n",
        "     \n",
        "     "
      ],
      "metadata": {
        "id": "Z0SReg4vmDS0"
      }
    },
    {
      "cell_type": "code",
      "source": [
        "#Creación de un ndarray con valores del  0 al 9 sin incluir el 10\n",
        "numeros_1 = np.arange(0, 10)\n",
        "\n",
        "numeros_1\n",
        "\n"
      ],
      "metadata": {
        "colab": {
          "base_uri": "https://localhost:8080/"
        },
        "id": "axmncl3SjxYt",
        "outputId": "ef98bfe5-b867-4005-e7ce-94ed73f4f310"
      },
      "execution_count": null,
      "outputs": [
        {
          "output_type": "execute_result",
          "data": {
            "text/plain": [
              "array([0, 1, 2, 3, 4, 5, 6, 7, 8, 9])"
            ]
          },
          "metadata": {},
          "execution_count": 16
        }
      ]
    },
    {
      "cell_type": "code",
      "source": [
        "#Creación de un ndarray con valores del  0 al 9 de dos en dos\n",
        "numeros_2 = np.arange(0, 10,2)\n",
        "numeros_2\n"
      ],
      "metadata": {
        "colab": {
          "base_uri": "https://localhost:8080/"
        },
        "id": "vNb6xwN6j0cq",
        "outputId": "38a29a62-c8d8-4dd5-8bb7-1ad0b94cdfd5"
      },
      "execution_count": null,
      "outputs": [
        {
          "output_type": "execute_result",
          "data": {
            "text/plain": [
              "array([0, 2, 4, 6, 8])"
            ]
          },
          "metadata": {},
          "execution_count": 17
        }
      ]
    },
    {
      "cell_type": "code",
      "source": [
        "#Creación de un ndarray con valores del  0 al 4 de 0,5 en 0,5\n",
        "numeros_3 = np.arange(0, 5,0.5)\n",
        "print(numeros_3)\n",
        "\n"
      ],
      "metadata": {
        "colab": {
          "base_uri": "https://localhost:8080/"
        },
        "id": "MNQPXVB8j3r6",
        "outputId": "92226549-a3c5-465f-9826-749ef9f6dddf"
      },
      "execution_count": null,
      "outputs": [
        {
          "output_type": "stream",
          "name": "stdout",
          "text": [
            "[0.  0.5 1.  1.5 2.  2.5 3.  3.5 4.  4.5]\n"
          ]
        }
      ]
    },
    {
      "cell_type": "markdown",
      "source": [
        "####np.linspace(inicio, Crea un ndarray con valores espaciados uniformemente. Parámetros: inicio: Valor inicial (incluido)\n",
        "####Parámetros. fin: Valor final (incluido). num_puntos: Número de puntos en el ndarray.\n"
      ],
      "metadata": {
        "id": "oYmpwVwyof1u"
      }
    },
    {
      "cell_type": "code",
      "source": [
        "#Creación de un ndarray con 10 valores espaciados\n",
        "puntos_1 = np.linspace(0, 1,10)\n",
        "print(puntos_1)\n",
        "\n"
      ],
      "metadata": {
        "colab": {
          "base_uri": "https://localhost:8080/"
        },
        "id": "GDn04hLAj5s9",
        "outputId": "561e852a-7730-42f1-ead5-c171821699c5"
      },
      "execution_count": null,
      "outputs": [
        {
          "output_type": "stream",
          "name": "stdout",
          "text": [
            "[0.         0.11111111 0.22222222 0.33333333 0.44444444 0.55555556\n",
            " 0.66666667 0.77777778 0.88888889 1.        ]\n"
          ]
        }
      ]
    },
    {
      "cell_type": "code",
      "source": [
        "#Creación de un ndarray con 5 valores espaciados uniformemente entre 2 y 10\n",
        "puntos_2 = np.linspace(2, 10,5)\n",
        "print(puntos_2)\n",
        "\n"
      ],
      "metadata": {
        "colab": {
          "base_uri": "https://localhost:8080/"
        },
        "id": "SpMF6Pjuj8jK",
        "outputId": "0b7c6274-ef33-4174-b227-344417150a03"
      },
      "execution_count": null,
      "outputs": [
        {
          "output_type": "stream",
          "name": "stdout",
          "text": [
            "[ 2.  4.  6.  8. 10.]\n"
          ]
        }
      ]
    },
    {
      "cell_type": "markdown",
      "source": [
        "#### np.random.rand(dimensiones):Crea un ndarray con números aleatorios entre 0 y 1.\n",
        "#### Paámetros: dimensiones: Tupla que indica la forma del ndarray"
      ],
      "metadata": {
        "id": "0nGE8IrOpEl0"
      }
    },
    {
      "cell_type": "code",
      "source": [
        "#Creación de un ndarray de 3X3 con números aleatorios entre 0 y 1\n",
        "matriz_aleatoria_1 = np.random.rand(3,3)\n",
        "print(matriz_aleatoria_1)\n",
        "\n"
      ],
      "metadata": {
        "colab": {
          "base_uri": "https://localhost:8080/"
        },
        "id": "rbV5AcDPj-w5",
        "outputId": "4796b9c3-b1fa-4084-d2a1-51c8f85fb02a"
      },
      "execution_count": null,
      "outputs": [
        {
          "output_type": "stream",
          "name": "stdout",
          "text": [
            "[[0.93270404 0.26825483 0.16370047]\n",
            " [0.20743182 0.49837403 0.79115645]\n",
            " [0.12568976 0.43066633 0.81646772]]\n"
          ]
        }
      ]
    },
    {
      "cell_type": "code",
      "source": [
        "#Creación de un ndarray de 5 elementos con números aleatorios entre 0 y 1\n",
        "vector_aleatorio_1 = np.random.rand(5)\n",
        "print(vector_aleatorio_1)"
      ],
      "metadata": {
        "colab": {
          "base_uri": "https://localhost:8080/"
        },
        "id": "YZ-ddvwAkHn5",
        "outputId": "7c1c1a1a-dab4-4c1c-8560-adfdc11c3f68"
      },
      "execution_count": null,
      "outputs": [
        {
          "output_type": "stream",
          "name": "stdout",
          "text": [
            "[0.32303592 0.84401197 0.91111661 0.73848779 0.3084335 ]\n"
          ]
        }
      ]
    },
    {
      "cell_type": "markdown",
      "source": [
        "##Características básicas de un ndarray en NumPy:\n",
        "#### Dimensiones: Número de subíndices necesarios para acceder a un elemento.\n",
        "###Un ndarray 1D tiene una dimensión.\n",
        "####Ejemplo: array([1, 2, 3]).\n",
        "###Un ndarray 2D tiene dos dimensiones.\n",
        "####Ejemplo: array([[1, 2, 3], [4, 5, 6]]).\n",
        "###Un ndarray 3D tiene tres dimensiones.\n",
        "####Ejemplo: array([[[1, 2, 3], [4, 5, 6]], [[7, 8, 9], [10, 11, 12]]])."
      ],
      "metadata": {
        "id": "mKrNOkCMpYW-"
      }
    },
    {
      "cell_type": "code",
      "source": [],
      "metadata": {
        "id": "JH7NsLqkpqar"
      },
      "execution_count": null,
      "outputs": []
    },
    {
      "cell_type": "markdown",
      "source": [
        "###Forma (shape): Tupla que indica la longitud de cada dimensión. Se puede acceder a la forma de un ndarray mediante la propiedad .shape.\n",
        "####Ejemplos:\n",
        "  #### Un ndarray 1D con 5 elementos tiene forma (5,).\n",
        "  #### Un ndarray 2D con 3"
      ],
      "metadata": {
        "id": "WXdYEk4wp4l7"
      }
    },
    {
      "cell_type": "markdown",
      "source": [
        "###Tamaño (size): Número total de elementos en el ndarray. Se puede acceder al tamaño de un ndarray mediante la propiedad .size.\n",
        "#### Ejemplos:\n",
        "  #### Un ndarray 1D con 5 elementos tiene un tamaño de 5.\n",
        "  #### Un ndarray 2D  con 3  y 4 columnas tiene un tamaño de 12.\n",
        "  #### Un ndarray 3D con 2 matrices de 3x4 tiene un tamaño de 24\n",
        "  "
      ],
      "metadata": {
        "id": "xLmScpb8qRPX"
      }
    },
    {
      "cell_type": "code",
      "source": [
        "'''Indexación y selección de elementos: Se puede acceder a elementos específicos de un ndarray utilizando una secuencia deíndices entre corchetes.\n",
        "Selección de elementos: Se pueden seleccionar subconjuntos de un ndarray utilizando diferentes técnicas como slicing, máscaras y boolean indexing'''\n",
        "#Creación de un ndarray 2D\n",
        "matriz_2 = [[1,2,3], [4,5,6], [7,8,9]]\n",
        "matriz_2"
      ],
      "metadata": {
        "colab": {
          "base_uri": "https://localhost:8080/"
        },
        "id": "E7vt_kphq4JP",
        "outputId": "cb24410c-3275-407a-bee4-96fc5ae19635"
      },
      "execution_count": null,
      "outputs": [
        {
          "output_type": "execute_result",
          "data": {
            "text/plain": [
              "[[1, 2, 3], [4, 5, 6], [7, 8, 9]]"
            ]
          },
          "metadata": {},
          "execution_count": 23
        }
      ]
    },
    {
      "cell_type": "code",
      "source": [
        "#Acceso a un elemento físico (fila1, columna2)\n",
        "matriz_2 [2][0]\n",
        "\n"
      ],
      "metadata": {
        "colab": {
          "base_uri": "https://localhost:8080/"
        },
        "id": "5pHDDTkhr1zv",
        "outputId": "6341db0b-e9ef-40c3-b52d-f3a3f0da91a0"
      },
      "execution_count": null,
      "outputs": [
        {
          "output_type": "execute_result",
          "data": {
            "text/plain": [
              "7"
            ]
          },
          "metadata": {},
          "execution_count": 24
        }
      ]
    },
    {
      "cell_type": "markdown",
      "source": [
        "###operaciones matriciales"
      ],
      "metadata": {
        "id": "K08UrnLIvxvs"
      }
    },
    {
      "cell_type": "code",
      "source": [
        "#Seleción de una fila (fila0)\n",
        "fila = matriz_2 [2]\n",
        "#columna = matriz_2 [[2],[1]]\n",
        "#print(fila)\n",
        "#print(columna)\n",
        "\n",
        "#suma de los elementos del arreglo y muestra el resultado (45)\n",
        "print(np.sum(matriz_2))\n",
        "#fila"
      ],
      "metadata": {
        "colab": {
          "base_uri": "https://localhost:8080/"
        },
        "id": "mHqMH6BVtp9I",
        "outputId": "2fcbf2b1-bf0e-4fe9-f6cc-71a383f775fa"
      },
      "execution_count": null,
      "outputs": [
        {
          "output_type": "stream",
          "name": "stdout",
          "text": [
            "45\n"
          ]
        }
      ]
    },
    {
      "cell_type": "markdown",
      "source": [
        "####Métodos para la Manipulación de ndarrays:\n",
        "####NumPy proporciona una variedad de métodos paramanipular ndarrays de diferentes maneras. Algunos de estos métodos incluyen:\n",
        "####reshape(): Permite cambiar la forma de un array sin cambiar sus datos.\n",
        "####flatten(): Convierte un array multidimensional en un array unidimensional.\n",
        "###transpose(): Permite cambiar el orden de las dimensiones de un array\n",
        "\n"
      ],
      "metadata": {
        "id": "vWOcE-Ciua0C"
      }
    },
    {
      "cell_type": "code",
      "source": [
        "import numpy as np\n",
        "\n",
        "#Creación de un ndarray 2D\n",
        "matriz_3 = np.array([[1,2,3], [4,5,6], [7,8,9]])\n",
        "print(\"Array original:\\n\",matriz_3)"
      ],
      "metadata": {
        "colab": {
          "base_uri": "https://localhost:8080/"
        },
        "id": "cTrgu5_au5a0",
        "outputId": "c53c0745-bfc1-4325-ae9e-ae52f9e20828"
      },
      "execution_count": null,
      "outputs": [
        {
          "output_type": "stream",
          "name": "stdout",
          "text": [
            "Array original:\n",
            " [[1 2 3]\n",
            " [4 5 6]\n",
            " [7 8 9]]\n"
          ]
        }
      ]
    },
    {
      "cell_type": "code",
      "source": [
        "reshaped_matriz3 = matriz_3.reshape((1,9))\n",
        "print(\"Array Reshape: \\n\",  reshaped_matriz3)\n"
      ],
      "metadata": {
        "colab": {
          "base_uri": "https://localhost:8080/"
        },
        "id": "e4EBmseHvnsO",
        "outputId": "7e0b47f3-e67f-49e5-9a10-33157933ffca"
      },
      "execution_count": null,
      "outputs": [
        {
          "output_type": "stream",
          "name": "stdout",
          "text": [
            "Array Reshape: \n",
            " [[1 2 3 4 5 6 7 8 9]]\n"
          ]
        }
      ]
    },
    {
      "cell_type": "code",
      "source": [
        "flattened_matriz3 = matriz_3.flatten()\n",
        "print(\"Array flattten: \\n\", flattened_matriz3)\n"
      ],
      "metadata": {
        "colab": {
          "base_uri": "https://localhost:8080/"
        },
        "id": "zWRCtZoKyidn",
        "outputId": "b5c6f279-f52f-4764-e472-f398648e211d"
      },
      "execution_count": null,
      "outputs": [
        {
          "output_type": "stream",
          "name": "stdout",
          "text": [
            "Array flattten: \n",
            " [1 2 3 4 5 6 7 8 9]\n"
          ]
        }
      ]
    },
    {
      "cell_type": "code",
      "source": [
        "trasposed_matriz3 = matriz_3.transpose()\n",
        "print(\"Array transpose: \\n\", trasposed_matriz3)\n"
      ],
      "metadata": {
        "colab": {
          "base_uri": "https://localhost:8080/"
        },
        "id": "a2arp8LD6OtV",
        "outputId": "20e0d6e3-4cb4-46ef-c678-bb7aaab34e1d"
      },
      "execution_count": null,
      "outputs": [
        {
          "output_type": "stream",
          "name": "stdout",
          "text": [
            "Array transpose: \n",
            " [[1 4 7]\n",
            " [2 5 8]\n",
            " [3 6 9]]\n"
          ]
        }
      ]
    },
    {
      "cell_type": "markdown",
      "source": [
        "####NumPy ofrece funciones para generar números aleatorios que son útiles en simulaciones, análisis de datos y otras aplicaciones. Algunas de estas funciones incluyen:"
      ],
      "metadata": {
        "id": "hHW-ptdA7XAv"
      }
    },
    {
      "cell_type": "code",
      "source": [
        "#np.random.rand(): Genera números aleatorios entre 0 y 1 con una distribución uniforme\n",
        "nume_aleat_uniformes = np.random.rand(5)\n",
        "print(\"Números aleatorios uniformes: \\n\", nume_aleat_uniformes)\n",
        "#nume_aleat_uniformes"
      ],
      "metadata": {
        "colab": {
          "base_uri": "https://localhost:8080/"
        },
        "id": "Ae14MAXx7cpG",
        "outputId": "3b8838b1-4a07-43d2-e07e-e405c31e68f4"
      },
      "execution_count": null,
      "outputs": [
        {
          "output_type": "stream",
          "name": "stdout",
          "text": [
            "Números aleatorios uniformes: \n",
            " [0.01356795 0.84060747 0.67831681 0.94770502 0.58482999]\n"
          ]
        }
      ]
    },
    {
      "cell_type": "code",
      "source": [
        "#np.random.randint(): Genera números enteros aleatorios dentro de un rango especicado\n",
        "numeros_aleatorios_enteros = np.random.randint(1,20,5)\n",
        "print(\"Números aleatorios enteros: \\n\", numeros_aleatorios_enteros)"
      ],
      "metadata": {
        "colab": {
          "base_uri": "https://localhost:8080/"
        },
        "id": "IACAlJOk74lF",
        "outputId": "576a715c-d8c7-4761-8950-d3d61c1063ea"
      },
      "execution_count": null,
      "outputs": [
        {
          "output_type": "stream",
          "name": "stdout",
          "text": [
            "Números aleatorios enteros: \n",
            " [13  9  1  5  3]\n"
          ]
        }
      ]
    },
    {
      "cell_type": "code",
      "source": [
        "#np.random.randn(): Genera números aleatorios con una distribución normal (gaussiana) con media 0 y desviación estándar 1.\n",
        "numeros_aleatorios_normales = np.random.randn(5,5)\n",
        "print(\"Números aleatorios normales: \\n\", numeros_aleatorios_normales)"
      ],
      "metadata": {
        "colab": {
          "base_uri": "https://localhost:8080/"
        },
        "id": "1PeEPEIq8H9u",
        "outputId": "5a6e6cfa-e834-4142-fc5a-086f34218c48"
      },
      "execution_count": null,
      "outputs": [
        {
          "output_type": "stream",
          "name": "stdout",
          "text": [
            "Números aleatorios normales: \n",
            " [[-0.5247769   0.12297335  0.05729345  2.07889584  1.98348831]\n",
            " [-0.72602521  0.16257308 -1.14826315 -1.09223331  1.87760025]\n",
            " [ 2.63592151  0.9839692   0.74092031  1.18385944 -0.39754083]\n",
            " [-0.0178241  -1.70474296  0.73211422 -1.24943258 -0.35619374]\n",
            " [-0.12914181  0.14962733  1.63660671 -0.53458383 -1.33947453]]\n"
          ]
        }
      ]
    },
    {
      "cell_type": "markdown",
      "source": [
        "##Operaciones ariméticas\n",
        "\n"
      ],
      "metadata": {
        "id": "yYowYnKm8xXz"
      }
    },
    {
      "cell_type": "code",
      "source": [
        "# cada elemento del primer ndarray se combina con el correspondiente del segundo\n",
        "suma1 = np.array([1, 2, 3])\n",
        "suma2 = np.array([4, 5, 6])\n",
        "print (\"Salida: \\n\", suma1 + suma2)"
      ],
      "metadata": {
        "colab": {
          "base_uri": "https://localhost:8080/"
        },
        "id": "d9y4UFK_9HeB",
        "outputId": "248cf419-d401-43ab-83d4-19c65469d6b8"
      },
      "execution_count": null,
      "outputs": [
        {
          "output_type": "stream",
          "name": "stdout",
          "text": [
            "Salida: \n",
            " [5 7 9]\n"
          ]
        }
      ]
    },
    {
      "cell_type": "code",
      "source": [
        "#Multiplicación por una constante\n",
        "\n",
        "print (\"Salida suma1X5: \\n\", suma1 * 5)\n",
        "print (\"Salida suma2X5: \\n\", suma2 * 5)"
      ],
      "metadata": {
        "colab": {
          "base_uri": "https://localhost:8080/"
        },
        "id": "i4Vx70ef-g83",
        "outputId": "ab4d2b0e-dd64-4f2b-e032-b5f5d3e468c4"
      },
      "execution_count": null,
      "outputs": [
        {
          "output_type": "stream",
          "name": "stdout",
          "text": [
            "Salida suma1X5: \n",
            " [ 5 10 15]\n",
            "Salida suma2X5: \n",
            " [20 25 30]\n"
          ]
        }
      ]
    },
    {
      "cell_type": "code",
      "source": [
        "#Suma de matrices\n",
        "suma3 = np.array([[1, 2],[3, 4], [5, 6]])\n",
        "suma4 = np.array([[7, 8], [9, 10], [11, 12]])\n",
        "print (\"Salida suma3 + suma4: \\n\", suma3 + suma4)"
      ],
      "metadata": {
        "colab": {
          "base_uri": "https://localhost:8080/"
        },
        "id": "AZXExB28_DPe",
        "outputId": "4294f092-f644-4796-fc2c-cc608f18bc33"
      },
      "execution_count": null,
      "outputs": [
        {
          "output_type": "stream",
          "name": "stdout",
          "text": [
            "Salida suma3 + suma4: \n",
            " [[ 8 10]\n",
            " [12 14]\n",
            " [16 18]]\n"
          ]
        }
      ]
    },
    {
      "cell_type": "code",
      "source": [
        "array1 = np.array([1,2,3,4,5,6,7,8,9])\n",
        "array2 = np.array([10,11,12,13,14,15,16,17,18])\n",
        "#print (\"Salida array1 - array2: \\n\", array1 - array2)\n"
      ],
      "metadata": {
        "id": "mLkh5OR6A5FV"
      },
      "execution_count": null,
      "outputs": []
    },
    {
      "cell_type": "code",
      "source": [
        "#Reshape:  permite cambiar la forma (dimensiones) de un ndarray sin cambiar sus datos. Es útil para transformar datos y prepararlos\n",
        "#para su entrada en modelos de aprendizaje automático que pueden requerir formatos de entrada específicos\n",
        "reshaped_array1 = array1.reshape(3,3)\n",
        "reshaped_array1"
      ],
      "metadata": {
        "colab": {
          "base_uri": "https://localhost:8080/"
        },
        "id": "pDPYTbQdBKhJ",
        "outputId": "19663055-1dda-442e-a684-c99ba2c7b37f"
      },
      "execution_count": null,
      "outputs": [
        {
          "output_type": "execute_result",
          "data": {
            "text/plain": [
              "array([[1, 2, 3],\n",
              "       [4, 5, 6],\n",
              "       [7, 8, 9]])"
            ]
          },
          "metadata": {},
          "execution_count": 37
        }
      ]
    },
    {
      "cell_type": "code",
      "source": [
        "# reshape(): permite cambiar la forma (dimensiones) de un ndarray sin cambiar sus datos. Es útil para transformar datos y prepararlos\n",
        "#para su entrada en modelos de aprendizaje automático que pueden requerir formatos de entrada específicos\n",
        "reshaped_array2 = array2.reshape(3,3)\n",
        "reshaped_array2"
      ],
      "metadata": {
        "colab": {
          "base_uri": "https://localhost:8080/"
        },
        "id": "HsJG8rOECvF9",
        "outputId": "3e490578-bb1b-44cf-d378-287aa5a10c67"
      },
      "execution_count": null,
      "outputs": [
        {
          "output_type": "execute_result",
          "data": {
            "text/plain": [
              "array([[10, 11, 12],\n",
              "       [13, 14, 15],\n",
              "       [16, 17, 18]])"
            ]
          },
          "metadata": {},
          "execution_count": 38
        }
      ]
    },
    {
      "cell_type": "code",
      "source": [
        "#sum(): Este método calcula la suma de los elementos a lo largo de un eje específico o de todo el ndarray\n",
        "print(\"Resultado de la suma de matriz_3: \\n\", matriz_3.sum())"
      ],
      "metadata": {
        "colab": {
          "base_uri": "https://localhost:8080/"
        },
        "id": "lsre9PPiDFIS",
        "outputId": "d035db59-a08e-43ac-e9d4-059a12515f83"
      },
      "execution_count": null,
      "outputs": [
        {
          "output_type": "stream",
          "name": "stdout",
          "text": [
            "Resultado de la suma de matriz_3: \n",
            " 45\n"
          ]
        }
      ]
    },
    {
      "cell_type": "code",
      "source": [
        "#mean(): Calcula la media de los elementos a lo largo de un eje específico o de todo el ndarray\n",
        "print(\"Resultado de la media de matriz_3: \\n\", reshaped_array2.mean())\n"
      ],
      "metadata": {
        "colab": {
          "base_uri": "https://localhost:8080/"
        },
        "id": "u2DM2EkDEkHp",
        "outputId": "7e69b060-0a3e-421a-fd3c-a2cf2aa55787"
      },
      "execution_count": null,
      "outputs": [
        {
          "output_type": "stream",
          "name": "stdout",
          "text": [
            "Resultado de la media de matriz_3: \n",
            " 14.0\n"
          ]
        }
      ]
    },
    {
      "cell_type": "code",
      "source": [
        "#min() y max(): Estos métodos devuelven el valor mínimo y máximo del ndarray o a lo largo de un eje específico\n",
        "print(\"Valor máximo de reshaped_array2: \\n\", reshaped_array2.max())\n",
        "print(\"Valor mínimo de reshaped_array2: \\n\", reshaped_array2.min())\n",
        "\n"
      ],
      "metadata": {
        "colab": {
          "base_uri": "https://localhost:8080/"
        },
        "id": "6rSh49xFFFh_",
        "outputId": "85c64c83-5799-4a9c-e538-e7702de3923d"
      },
      "execution_count": null,
      "outputs": [
        {
          "output_type": "stream",
          "name": "stdout",
          "text": [
            "Valor máimo de reshaped_array2: \n",
            " 18\n",
            "Valor mínimo de reshaped_array2: \n",
            " 10\n"
          ]
        }
      ]
    },
    {
      "cell_type": "code",
      "source": [
        "#argmin() y argmax(): Estos métodos devuelven los índices del valor mínimo y máximo, respectivamente.\n",
        "print(\"Valor mínimo de reshaped_array2: \\n\", reshaped_array2.argmin())\n",
        "print(\"Valor máximo de reshaped_array2: \\n\", reshaped_array2.argmax())\n"
      ],
      "metadata": {
        "colab": {
          "base_uri": "https://localhost:8080/"
        },
        "id": "CPxhGx-7GSfH",
        "outputId": "3243ffd6-798a-4991-db7b-44a0c8aab655"
      },
      "execution_count": null,
      "outputs": [
        {
          "output_type": "stream",
          "name": "stdout",
          "text": [
            "Valor mínimo de reshaped_array2: \n",
            " 0\n",
            "Valor máximo de reshaped_array2: \n",
            " 8\n"
          ]
        }
      ]
    },
    {
      "cell_type": "code",
      "source": [
        "#std(): Calcula la desviación estándar de los elementos a lo largo de un eje específico o de todo el ndarray\n",
        "print(\"Desviación estándar de reshaped_array1: \\n\", reshaped_array1.std())\n",
        "#"
      ],
      "metadata": {
        "colab": {
          "base_uri": "https://localhost:8080/"
        },
        "id": "McYSK5U9HA1Y",
        "outputId": "134dc3f7-10e6-417f-e80d-cd8812883ec7"
      },
      "execution_count": null,
      "outputs": [
        {
          "output_type": "stream",
          "name": "stdout",
          "text": [
            "Desviación estándar de reshaped_array1: \n",
            " 2.581988897471611\n"
          ]
        }
      ]
    },
    {
      "cell_type": "code",
      "source": [
        "#std(): Calcula la desviación estándar de los elementos a lo largo de un eje específico o de todo el ndarray\n",
        "print(\"Desviación estándar de reshaped_array2: \\n\", reshaped_array2.std())"
      ],
      "metadata": {
        "colab": {
          "base_uri": "https://localhost:8080/"
        },
        "id": "FdZZhzuOHIH5",
        "outputId": "81eb3cda-0a69-49b8-9bc1-52a72f3af064"
      },
      "execution_count": null,
      "outputs": [
        {
          "output_type": "stream",
          "name": "stdout",
          "text": [
            "Desviación estándar de reshaped_array2: \n",
            " 2.581988897471611\n"
          ]
        }
      ]
    },
    {
      "cell_type": "markdown",
      "source": [
        "##Desarrollo taller ejercicios con Numpy\n",
        "Creacion de arrays"
      ],
      "metadata": {
        "id": "C4tSZzWMHLsL"
      }
    },
    {
      "cell_type": "code",
      "source": [
        "#a. Crea un array unidimensional de longitud 5 con números enteros aleatorios\n",
        "num_aleatorios_enteros = np.random.randint(1,20,5)\n",
        "print(\"Números aleatorios enteros: \\n\", num_aleatorios_enteros)"
      ],
      "metadata": {
        "colab": {
          "base_uri": "https://localhost:8080/"
        },
        "id": "_rFkm1SyHTgJ",
        "outputId": "9cd5b89b-c03c-4e19-d828-f62b0af172ee"
      },
      "execution_count": null,
      "outputs": [
        {
          "output_type": "stream",
          "name": "stdout",
          "text": [
            "Números aleatorios enteros: \n",
            " [11 16 15  8 15]\n"
          ]
        }
      ]
    },
    {
      "cell_type": "code",
      "source": [
        "#b. Crea un array bidimensional de tamaño 3x3 con valores booleanos True\n",
        "array_true = np.array([[True, True, True],\n",
        "       [True, True, True],\n",
        "       [True, True, True]])\n",
        "array_true"
      ],
      "metadata": {
        "colab": {
          "base_uri": "https://localhost:8080/"
        },
        "id": "X9-hllfIHqgn",
        "outputId": "bf87365e-edb8-4a9c-c083-7336ae91adaa"
      },
      "execution_count": null,
      "outputs": [
        {
          "output_type": "execute_result",
          "data": {
            "text/plain": [
              "array([[ True,  True,  True],\n",
              "       [ True,  True,  True],\n",
              "       [ True,  True,  True]])"
            ]
          },
          "metadata": {},
          "execution_count": 93
        }
      ]
    },
    {
      "cell_type": "code",
      "source": [
        "# c. Crea un array tridimensional de tamaño 3x2x4 con valores definidos\n",
        "array1 = np.array ([[[1, 2, 3, 4], [5, 6, 7, 8]], [[9, 10, 11, 12], [13, 14, 15, 16]],[[17, 18, 19, 20], [21, 22, 23, 24]]])\n",
        "array1"
      ],
      "metadata": {
        "colab": {
          "base_uri": "https://localhost:8080/"
        },
        "id": "FdcyY7BxNUWY",
        "outputId": "4d2acf56-f7d9-4fb6-d663-2014d78284af"
      },
      "execution_count": null,
      "outputs": [
        {
          "output_type": "execute_result",
          "data": {
            "text/plain": [
              "array([[[ 1,  2,  3,  4],\n",
              "        [ 5,  6,  7,  8]],\n",
              "\n",
              "       [[ 9, 10, 11, 12],\n",
              "        [13, 14, 15, 16]],\n",
              "\n",
              "       [[17, 18, 19, 20],\n",
              "        [21, 22, 23, 24]]])"
            ]
          },
          "metadata": {},
          "execution_count": 76
        }
      ]
    },
    {
      "cell_type": "code",
      "source": [
        "# c. Crea un array tridimensional de tamaño 2x3x4 con valores flotantes aleatorios\n",
        "import numpy as np\n",
        "g = np.random.rand(2,3,4)\n",
        "g\n"
      ],
      "metadata": {
        "colab": {
          "base_uri": "https://localhost:8080/"
        },
        "id": "awGQ1eLoQpJR",
        "outputId": "abd62bd3-89a4-44ad-e5e4-911f572da237"
      },
      "execution_count": null,
      "outputs": [
        {
          "output_type": "execute_result",
          "data": {
            "text/plain": [
              "array([[[0.77563682, 0.47304042, 0.76202532, 0.77391034],\n",
              "        [0.26400004, 0.49515033, 0.86515106, 0.28355428],\n",
              "        [0.726745  , 0.20664592, 0.57440972, 0.75683755]],\n",
              "\n",
              "       [[0.83631854, 0.01304788, 0.02869463, 0.19712474],\n",
              "        [0.62170724, 0.62606121, 0.63723218, 0.48359611],\n",
              "        [0.11085499, 0.62297155, 0.87508284, 0.09856352]]])"
            ]
          },
          "metadata": {},
          "execution_count": 87
        }
      ]
    },
    {
      "cell_type": "markdown",
      "source": [
        "##Acceso y Modificación de elementos"
      ],
      "metadata": {
        "id": "LgnKU-I4ZujN"
      }
    },
    {
      "cell_type": "code",
      "source": [
        "#Accede al tercer elemento del array creado en el ejercicio 1a.\n",
        "Acceder = num_aleatorios_enteros[2]\n",
        "Acceder"
      ],
      "metadata": {
        "colab": {
          "base_uri": "https://localhost:8080/"
        },
        "id": "NojNTwHJZ0Pv",
        "outputId": "84092f1e-e6d9-40ff-aa3a-47d779e9c11c"
      },
      "execution_count": null,
      "outputs": [
        {
          "output_type": "execute_result",
          "data": {
            "text/plain": [
              "15"
            ]
          },
          "metadata": {},
          "execution_count": 91
        }
      ]
    },
    {
      "cell_type": "code",
      "source": [
        "#b. Modifica el segundo elemento de la segunda fila del array creado en el ejercicio 1b para que sea false\n",
        "Acceder2 = array_true[1,1] = False\n",
        "array_true"
      ],
      "metadata": {
        "colab": {
          "base_uri": "https://localhost:8080/"
        },
        "id": "t2VWWNOaZ583",
        "outputId": "3e7da434-5f6f-42d1-914d-fad17e7e98ad"
      },
      "execution_count": null,
      "outputs": [
        {
          "output_type": "execute_result",
          "data": {
            "text/plain": [
              "array([[ True,  True,  True],\n",
              "       [ True, False,  True],\n",
              "       [ True,  True,  True]])"
            ]
          },
          "metadata": {},
          "execution_count": 94
        }
      ]
    },
    {
      "cell_type": "code",
      "source": [
        "#Calcula la media de los elementos en la tercera dimensión del array creado en el ejercicio 1c.\n",
        "\n",
        "calc_media = array1.mean()\n",
        "calc_media\n"
      ],
      "metadata": {
        "colab": {
          "base_uri": "https://localhost:8080/"
        },
        "id": "g3r59H6QbEcz",
        "outputId": "91e799ff-9892-42ca-a250-b8ed8067eb15"
      },
      "execution_count": null,
      "outputs": [
        {
          "output_type": "execute_result",
          "data": {
            "text/plain": [
              "12.5"
            ]
          },
          "metadata": {},
          "execution_count": 95
        }
      ]
    },
    {
      "cell_type": "code",
      "source": [
        "calc_media2 = g.mean()\n",
        "calc_media2"
      ],
      "metadata": {
        "colab": {
          "base_uri": "https://localhost:8080/"
        },
        "id": "Jv0dW2SSbVhE",
        "outputId": "97f71fb2-3082-42bc-ba3e-5fda0825ff68"
      },
      "execution_count": null,
      "outputs": [
        {
          "output_type": "execute_result",
          "data": {
            "text/plain": [
              "0.5045150929702636"
            ]
          },
          "metadata": {},
          "execution_count": 98
        }
      ]
    },
    {
      "cell_type": "markdown",
      "source": [
        "##Operaciones aritméticas"
      ],
      "metadata": {
        "id": "-XD3b1B8bxzi"
      }
    },
    {
      "cell_type": "code",
      "source": [
        "#a. Crea dos arrays unidimensionales de la misma longitud con números enteros aleatorios y realiza una suma elemento por elemento.\n",
        "array_11 = np.random.randint(1, 50, 10)\n",
        "array_22 = np.random.randint(1, 50, 10)\n",
        "print (\"Salida array_11: \\n\", array_11)\n",
        "print (\"Salida array_22: \\n\", array_22)\n",
        "print (\"Suma array_11 + array_22: \\n\", array_11 + array_22)\n"
      ],
      "metadata": {
        "colab": {
          "base_uri": "https://localhost:8080/"
        },
        "id": "XodgwbGhb2Ue",
        "outputId": "d002fdc5-58fc-4544-d50c-7dc175886b80"
      },
      "execution_count": null,
      "outputs": [
        {
          "output_type": "stream",
          "name": "stdout",
          "text": [
            "Salida array_11: \n",
            " [46 25 36 37 45 25 39 23  5  5]\n",
            "Salida array_22: \n",
            " [11 22 38 45 17 40 26  2 35 44]\n",
            "Suma array_1 + array_2: \n",
            " [57 47 74 82 62 65 65 25 40 49]\n"
          ]
        }
      ]
    },
    {
      "cell_type": "code",
      "source": [
        "#b. Crea dos arrays bidimensionales de la misma forma y realiza una multiplicación matriz-vector.\n",
        "matrix_1 = np.random.rand (2, 5)\n",
        "matrix_2 = np.random.rand (2, 5)\n",
        "\n",
        "print(\"Salida de matrix_1:\\n\", matrix_1)\n",
        "print(\"Salida de matrix_2:\\n\", matrix_2)\n",
        "print(\"Resultado de matrix_1 * matrix_2: \\n\", matrix_1 * matrix_2)\n",
        "\n"
      ],
      "metadata": {
        "colab": {
          "base_uri": "https://localhost:8080/"
        },
        "id": "W36_w0DCcTrs",
        "outputId": "bf6a2d4e-928c-49cf-d7a7-403261f8cf11"
      },
      "execution_count": null,
      "outputs": [
        {
          "output_type": "stream",
          "name": "stdout",
          "text": [
            "Salida de matrix_1:\n",
            " [[0.7738624  0.46799802 0.82432648 0.23239158 0.18650644]\n",
            " [0.21750721 0.18422029 0.92848386 0.40590444 0.39134725]]\n",
            "Salida de matrix_2:\n",
            " [[0.55931758 0.49326055 0.89324602 0.02391081 0.43644967]\n",
            " [0.98526095 0.24466072 0.83912444 0.39707439 0.950426  ]]\n",
            "Resultado de matrix_1 * matrix_2: \n",
            " [[0.43283485 0.23084496 0.73632635 0.00555667 0.08140068]\n",
            " [0.21430136 0.04507147 0.7791135  0.16117426 0.3719466 ]]\n"
          ]
        }
      ]
    },
    {
      "cell_type": "code",
      "source": [
        "#c. Calcula el producto punto entre dos arrays tridimensionales de la misma forma\n",
        "\n",
        "array_101 = np.random.randint(2, 100, (3, 3, 10))\n",
        "array_102 = np.random.randint(1, 100, (3, 3, 10))\n",
        "\n",
        "print(\"Salida de array_101:\\n\", array_101)\n",
        "print(\"\\nSalida de array_102:\\n\", array_102)\n",
        "print(\"\\nResultado de [array_101] * [array_102]: \\n\", array_101 * array_102)\n",
        "\n",
        "\n",
        "\n"
      ],
      "metadata": {
        "colab": {
          "base_uri": "https://localhost:8080/"
        },
        "id": "QG495ZZNf9Zi",
        "outputId": "033dabed-3947-4185-8c6f-c4c3d8b71007"
      },
      "execution_count": null,
      "outputs": [
        {
          "output_type": "stream",
          "name": "stdout",
          "text": [
            "Salida de array_101:\n",
            " [[[19  7 91 80 54 89 53 54 69 89]\n",
            "  [ 8 84 44 93 45 52 70 49 45 31]\n",
            "  [18 32 62 22 28 62 18 93 50 71]]\n",
            "\n",
            " [[20 10 31 30 94 27 33 51 66 13]\n",
            "  [96 67 97 46 79 63 62 17 67 64]\n",
            "  [77  7 10 83 28 71 14 17 56 80]]\n",
            "\n",
            " [[38 72 20 91 85 81 84 85 15 82]\n",
            "  [96 23 13 20 38 91 57 23 57 70]\n",
            "  [76 58 89 20 28 84 89 78  6 44]]]\n",
            "\n",
            "Salida de array_102:\n",
            " [[[11 15 52  9 61 82 14 66 48 38]\n",
            "  [41 74 70 79 13 10 95 48 76 72]\n",
            "  [98 15 62 98 71 17 43  1 63 13]]\n",
            "\n",
            " [[ 3 84 11 55 26 10 16 78 47 85]\n",
            "  [87 85  9 45  6 98 44 34 39 49]\n",
            "  [52 72 50 75  4 64 70 64 24  7]]\n",
            "\n",
            " [[26 12 25 32 36  7 47 76 90 20]\n",
            "  [34 16  9 76 27 62 31 29 54 68]\n",
            "  [47 72 38 19 44 56 90 80 14 11]]]\n",
            "\n",
            "Resultado de [array_101] * [array_102]: \n",
            " [[[ 209  105 4732  720 3294 7298  742 3564 3312 3382]\n",
            "  [ 328 6216 3080 7347  585  520 6650 2352 3420 2232]\n",
            "  [1764  480 3844 2156 1988 1054  774   93 3150  923]]\n",
            "\n",
            " [[  60  840  341 1650 2444  270  528 3978 3102 1105]\n",
            "  [8352 5695  873 2070  474 6174 2728  578 2613 3136]\n",
            "  [4004  504  500 6225  112 4544  980 1088 1344  560]]\n",
            "\n",
            " [[ 988  864  500 2912 3060  567 3948 6460 1350 1640]\n",
            "  [3264  368  117 1520 1026 5642 1767  667 3078 4760]\n",
            "  [3572 4176 3382  380 1232 4704 8010 6240   84  484]]]\n"
          ]
        }
      ]
    },
    {
      "cell_type": "markdown",
      "source": [
        "##Funciones y Métodos"
      ],
      "metadata": {
        "id": "uO0E1_OXo61r"
      }
    },
    {
      "cell_type": "code",
      "source": [
        "#a. Crea un array unidimensional con números enteros aleatorios y encuentra el valor máximo y mínimo\n",
        "array_33 = np.random.randint(1, 100, 10)\n",
        "array_33\n"
      ],
      "metadata": {
        "colab": {
          "base_uri": "https://localhost:8080/"
        },
        "id": "9KzD7DSso85m",
        "outputId": "41e89946-85de-4af9-9fc6-725251e16ad1"
      },
      "execution_count": null,
      "outputs": [
        {
          "output_type": "execute_result",
          "data": {
            "text/plain": [
              "array([13, 98, 79, 74, 67, 68, 58, 33, 35, 49])"
            ]
          },
          "metadata": {},
          "execution_count": 163
        }
      ]
    },
    {
      "cell_type": "code",
      "source": [
        "print(\"Valor máximo de array_33: \\n\", array_33.max())\n",
        "print(\"Valor mínimo de array_33: \\n\", array_33.min())\n"
      ],
      "metadata": {
        "colab": {
          "base_uri": "https://localhost:8080/"
        },
        "id": "xhgkAtPCp0LJ",
        "outputId": "e425903b-76a8-465b-b60c-09e6b3cac349"
      },
      "execution_count": null,
      "outputs": [
        {
          "output_type": "stream",
          "name": "stdout",
          "text": [
            "Valor máximo de array_33: \n",
            " 98\n",
            "Valor mínimo de array_33: \n",
            " 13\n"
          ]
        }
      ]
    },
    {
      "cell_type": "code",
      "source": [
        "#b. Crea un array bidimensional de tamaño 3x3 con valores flotantes y calcula la suma de cada columna\n",
        "matrix_33 = np.random.rand(3,3)\n",
        "matrix_34 = np.random.rand(3,3)\n",
        "print(\"Salida de matrix_33:\\n\", matrix_33)\n",
        "print(\"Salida de matrix_34:\\n\", matrix_34)\n",
        "print (\"El resultado de [Matrix_1] + [Matrix_2] es: \\n\", matrix_33 + matrix_34)\n"
      ],
      "metadata": {
        "colab": {
          "base_uri": "https://localhost:8080/"
        },
        "id": "LR8M28ntqEDV",
        "outputId": "366b0263-4132-446d-8f2d-9952b1ae4ea6"
      },
      "execution_count": null,
      "outputs": [
        {
          "output_type": "stream",
          "name": "stdout",
          "text": [
            "Salida de matrix_33:\n",
            " [[0.77644578 0.5538718  0.81110567]\n",
            " [0.82726591 0.84346154 0.10219096]\n",
            " [0.12736733 0.44600938 0.94927788]]\n",
            "Salida de matrix_34:\n",
            " [[0.64962057 0.33972232 0.70301424]\n",
            " [0.92096979 0.91934587 0.01514865]\n",
            " [0.57823217 0.69256433 0.30106283]]\n",
            "El resultado de [Matrix_1] + [Matrix_2] es: \n",
            " [[1.42606635 0.89359412 1.51411991]\n",
            " [1.7482357  1.76280741 0.11733961]\n",
            " [0.70559949 1.13857371 1.25034071]]\n"
          ]
        }
      ]
    },
    {
      "cell_type": "code",
      "source": [
        "#c. Utiliza la función np.linspace() para crear un array unidimensional con 10 elementos equidistantes entre 0 y 1.\n",
        "np.linspace(0,1,10)\n"
      ],
      "metadata": {
        "colab": {
          "base_uri": "https://localhost:8080/"
        },
        "id": "N2-3Ke0nsG3E",
        "outputId": "e9bd5a00-0118-4a62-d0b8-c54db034aba2"
      },
      "execution_count": null,
      "outputs": [
        {
          "output_type": "execute_result",
          "data": {
            "text/plain": [
              "array([0.        , 0.11111111, 0.22222222, 0.33333333, 0.44444444,\n",
              "       0.55555556, 0.66666667, 0.77777778, 0.88888889, 1.        ])"
            ]
          },
          "metadata": {},
          "execution_count": 170
        }
      ]
    },
    {
      "cell_type": "markdown",
      "source": [
        "##Indexación y slicing"
      ],
      "metadata": {
        "id": "cBAk-0xXsvco"
      }
    },
    {
      "cell_type": "code",
      "source": [
        "#a. Crea un array unidimensional con números enteros del 0 al 9 y obtén los elementos pares\n",
        "array_44 = np.arange(0,10)\n",
        "array_44"
      ],
      "metadata": {
        "colab": {
          "base_uri": "https://localhost:8080/"
        },
        "id": "L9ObxgYQspHp",
        "outputId": "5591a0a8-0a0b-4ac4-d549-aea30f5bc29c"
      },
      "execution_count": null,
      "outputs": [
        {
          "output_type": "execute_result",
          "data": {
            "text/plain": [
              "array([0, 1, 2, 3, 4, 5, 6, 7, 8, 9])"
            ]
          },
          "metadata": {},
          "execution_count": 171
        }
      ]
    },
    {
      "cell_type": "code",
      "source": [
        "elem_pares = array_44[array_44 % 2 == 0]\n",
        "elem_pares"
      ],
      "metadata": {
        "colab": {
          "base_uri": "https://localhost:8080/"
        },
        "id": "M0Cea2fetGA_",
        "outputId": "8b930a04-1fff-436a-c60b-71dc96534283"
      },
      "execution_count": null,
      "outputs": [
        {
          "output_type": "execute_result",
          "data": {
            "text/plain": [
              "array([0, 2, 4, 6, 8])"
            ]
          },
          "metadata": {},
          "execution_count": 172
        }
      ]
    },
    {
      "cell_type": "code",
      "source": [
        "#b. Crea un array bidimensional de tamaño 4x4 y obtén la submatriz formada por las primeras 2 filas y las últimas 2 columnas\n",
        "matrix_45 = np.random.randint(0, 100, (4, 4))\n",
        "matrix_45\n"
      ],
      "metadata": {
        "colab": {
          "base_uri": "https://localhost:8080/"
        },
        "id": "NIHCCabMtX7E",
        "outputId": "094571eb-95e7-4d07-dff0-15a23cfab908"
      },
      "execution_count": null,
      "outputs": [
        {
          "output_type": "execute_result",
          "data": {
            "text/plain": [
              "array([[35,  7, 64, 58],\n",
              "       [ 3, 20, 82, 43],\n",
              "       [ 9, 95, 45, 99],\n",
              "       [99, 41, 99,  4]])"
            ]
          },
          "metadata": {},
          "execution_count": 177
        }
      ]
    },
    {
      "cell_type": "code",
      "source": [
        "submatriz = matrix_45[:2, 2:]\n",
        "submatriz\n",
        "\n"
      ],
      "metadata": {
        "colab": {
          "base_uri": "https://localhost:8080/"
        },
        "id": "cnG75YTJuj1G",
        "outputId": "aaf060f9-7c34-4e95-ab83-0eb385a842af"
      },
      "execution_count": null,
      "outputs": [
        {
          "output_type": "execute_result",
          "data": {
            "text/plain": [
              "array([[64, 58],\n",
              "       [82, 43]])"
            ]
          },
          "metadata": {},
          "execution_count": 182
        }
      ]
    },
    {
      "cell_type": "code",
      "source": [
        "#c. Crea un array tridimensional de tamaño 3x3x3 y obtén el subarray formado por las primeras dos dimensiones\n",
        "array_55 = np.random.randint(0, 100, (3, 3, 3))\n",
        "array_55"
      ],
      "metadata": {
        "colab": {
          "base_uri": "https://localhost:8080/"
        },
        "id": "D5kimxM5wmBX",
        "outputId": "cb00bd90-1bc7-4990-c1e3-118d32f95172"
      },
      "execution_count": null,
      "outputs": [
        {
          "output_type": "execute_result",
          "data": {
            "text/plain": [
              "array([[[77, 46, 81],\n",
              "        [45, 91, 66],\n",
              "        [22, 81,  0]],\n",
              "\n",
              "       [[72, 22, 38],\n",
              "        [86, 26, 22],\n",
              "        [54,  1, 43]],\n",
              "\n",
              "       [[88, 81, 58],\n",
              "        [55, 73, 53],\n",
              "        [42, 18, 56]]])"
            ]
          },
          "metadata": {},
          "execution_count": 183
        }
      ]
    },
    {
      "cell_type": "code",
      "source": [
        "subarray = array_55[:1, :2, :3]\n",
        "subarray"
      ],
      "metadata": {
        "colab": {
          "base_uri": "https://localhost:8080/"
        },
        "id": "_SPRXinWwvNq",
        "outputId": "b53964a4-d61d-4471-ae84-400767baa853"
      },
      "execution_count": null,
      "outputs": [
        {
          "output_type": "execute_result",
          "data": {
            "text/plain": [
              "array([[[77, 46, 81],\n",
              "        [45, 91, 66]]])"
            ]
          },
          "metadata": {},
          "execution_count": 190
        }
      ]
    }
  ]
}